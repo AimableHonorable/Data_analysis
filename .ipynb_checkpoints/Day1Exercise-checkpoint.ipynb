{
 "cells": [
  {
   "cell_type": "markdown",
   "id": "1290cbf0-da36-4609-806e-9b68e3bf691f",
   "metadata": {},
   "source": [
    "# Variables\n",
    "We are going to create the BMI for specific people: \"w\" stands for Weight, where as \"h\" stands for Height"
   ]
  },
  {
   "cell_type": "code",
   "execution_count": 32,
   "id": "c9f4b4ae-974a-4d50-bfb2-6cfcab877a55",
   "metadata": {},
   "outputs": [
    {
     "name": "stdin",
     "output_type": "stream",
     "text": [
      "Enter your weight:  65\n",
      "Enter your height:  1.68\n"
     ]
    },
    {
     "name": "stdout",
     "output_type": "stream",
     "text": [
      "23\n",
      "You are normal\n"
     ]
    }
   ],
   "source": [
    "w = int(input(\"Enter your weight: \"))\n",
    "h = float(input(\"Enter your height: \"))\n",
    "BMI = w / (h**2)\n",
    "print (round(BMI))\n",
    "if   BMI <= 18:\n",
    "    print (\"You have Underweighted. Eat some fats to gain weight\")\n",
    "else:\n",
    "    if BMI >= 25:\n",
    "        print (\"You have Overweighted. You need to check the nutritionist to work on your weith loss\")\n",
    "    else:\n",
    "        print (\"You are normal\")"
   ]
  },
  {
   "cell_type": "code",
   "execution_count": null,
   "id": "b0bd8082-ea7e-4313-b8b6-2a600d34ddc1",
   "metadata": {},
   "outputs": [],
   "source": []
  }
 ],
 "metadata": {
  "kernelspec": {
   "display_name": "Python [conda env:Orange]",
   "language": "python",
   "name": "conda-env-Orange-py"
  },
  "language_info": {
   "codemirror_mode": {
    "name": "ipython",
    "version": 3
   },
   "file_extension": ".py",
   "mimetype": "text/x-python",
   "name": "python",
   "nbconvert_exporter": "python",
   "pygments_lexer": "ipython3",
   "version": "3.11.8"
  }
 },
 "nbformat": 4,
 "nbformat_minor": 5
}
