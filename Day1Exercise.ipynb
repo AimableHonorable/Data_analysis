{
 "cells": [
  {
   "cell_type": "markdown",
   "id": "1290cbf0-da36-4609-806e-9b68e3bf691f",
   "metadata": {},
   "source": [
    "# Variables\n",
    "We are going to create the BMI for specific people: \"w\" stands for Weight, where as \"h\" stands for Height"
   ]
  },
  {
   "cell_type": "code",
   "execution_count": 32,
   "id": "c9f4b4ae-974a-4d50-bfb2-6cfcab877a55",
   "metadata": {},
   "outputs": [
    {
     "name": "stdin",
     "output_type": "stream",
     "text": [
      "Enter your weight:  65\n",
      "Enter your height:  1.68\n"
     ]
    },
    {
     "name": "stdout",
     "output_type": "stream",
     "text": [
      "23\n",
      "You are normal\n"
     ]
    }
   ],
   "source": [
    "w = int(input(\"Enter your weight: \"))\n",
    "h = float(input(\"Enter your height: \"))\n",
    "BMI = w / (h**2)\n",
    "print (round(BMI))\n",
    "if   BMI <= 18:\n",
    "    print (\"You have Underweighted. Eat some fats to gain weight\")\n",
    "else:\n",
    "    if BMI >= 25:\n",
    "        print (\"You have Overweighted. You need to check the nutritionist to work on your weith loss\")\n",
    "    else:\n",
    "        print (\"You are normal\")"
   ]
  },
  {
   "cell_type": "markdown",
   "id": "7a448de7-deac-4ba2-9943-3db008c0b8ce",
   "metadata": {},
   "source": [
    "# Functions"
   ]
  },
  {
   "cell_type": "code",
   "execution_count": 2,
   "id": "03f88f3a-740a-423c-afb0-b2a855c81565",
   "metadata": {},
   "outputs": [],
   "source": [
    "def speed_calculator (d, t):\n",
    "    speed = d/t\n",
    "    return speed"
   ]
  },
  {
   "cell_type": "code",
   "execution_count": 4,
   "id": "445771e3-1a04-41e4-99ea-6375580d3635",
   "metadata": {},
   "outputs": [
    {
     "data": {
      "text/plain": [
       "4.666666666666667"
      ]
     },
     "execution_count": 4,
     "metadata": {},
     "output_type": "execute_result"
    }
   ],
   "source": [
    "speed_calculator(7, 1.5)"
   ]
  },
  {
   "cell_type": "markdown",
   "id": "da583767-3bd5-4c5e-8675-24bd2cdd6318",
   "metadata": {},
   "source": [
    "# Matrix"
   ]
  },
  {
   "cell_type": "code",
   "execution_count": 8,
   "id": "671bc73e-2a13-4998-a5de-3bec1e11a83a",
   "metadata": {},
   "outputs": [],
   "source": [
    "import numpy as np"
   ]
  },
  {
   "cell_type": "code",
   "execution_count": 10,
   "id": "fa0e4e49-a955-4f23-9a92-4465e8b87005",
   "metadata": {},
   "outputs": [
    {
     "data": {
      "text/plain": [
       "array([[1., 1., 1., 1., 1., 1., 1., 1., 1., 1.],\n",
       "       [1., 1., 1., 1., 1., 1., 1., 1., 1., 1.],\n",
       "       [1., 1., 1., 1., 1., 1., 1., 1., 1., 1.],\n",
       "       [1., 1., 1., 1., 1., 1., 1., 1., 1., 1.],\n",
       "       [1., 1., 1., 1., 1., 1., 1., 1., 1., 1.],\n",
       "       [1., 1., 1., 1., 1., 1., 1., 1., 1., 1.],\n",
       "       [1., 1., 1., 1., 1., 1., 1., 1., 1., 1.],\n",
       "       [1., 1., 1., 1., 1., 1., 1., 1., 1., 1.],\n",
       "       [1., 1., 1., 1., 1., 1., 1., 1., 1., 1.],\n",
       "       [1., 1., 1., 1., 1., 1., 1., 1., 1., 1.]])"
      ]
     },
     "execution_count": 10,
     "metadata": {},
     "output_type": "execute_result"
    }
   ],
   "source": [
    "np.ones((10, 10))"
   ]
  },
  {
   "cell_type": "code",
   "execution_count": 16,
   "id": "5a1aba33-ca88-44fb-bf7c-648ff5466190",
   "metadata": {},
   "outputs": [
    {
     "data": {
      "text/plain": [
       "array([2, 3, 4, 5, 6, 7, 8, 9])"
      ]
     },
     "execution_count": 16,
     "metadata": {},
     "output_type": "execute_result"
    }
   ],
   "source": [
    "np.arange(2,10,)"
   ]
  },
  {
   "cell_type": "code",
   "execution_count": null,
   "id": "9ec731d3-a6ec-4639-9a0e-32eda1d2516d",
   "metadata": {},
   "outputs": [],
   "source": []
  }
 ],
 "metadata": {
  "kernelspec": {
   "display_name": "Python [conda env:Orange]",
   "language": "python",
   "name": "conda-env-Orange-py"
  },
  "language_info": {
   "codemirror_mode": {
    "name": "ipython",
    "version": 3
   },
   "file_extension": ".py",
   "mimetype": "text/x-python",
   "name": "python",
   "nbconvert_exporter": "python",
   "pygments_lexer": "ipython3",
   "version": "3.11.8"
  }
 },
 "nbformat": 4,
 "nbformat_minor": 5
}
